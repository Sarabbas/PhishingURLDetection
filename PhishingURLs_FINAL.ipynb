{
  "cells": [
    {
      "cell_type": "markdown",
      "metadata": {
        "id": "3VHpGx7lmAYL"
      },
      "source": [
        "# Importation and Dataset"
      ]
    },
    {
      "cell_type": "code",
      "execution_count": 1,
      "metadata": {
        "id": "oQ2iK5fTw4KX"
      },
      "outputs": [],
      "source": [
        "import pandas as pd\n",
        "import numpy as np\n",
        "import matplotlib.pyplot as plt\n",
        "%matplotlib inline\n",
        "import seaborn as sns  \n",
        "import time \n",
        "\n",
        "from sklearn.metrics import classification_report\n",
        "from sklearn.metrics import confusion_matrix\n",
        "from nltk.tokenize import RegexpTokenizer  \n",
        "from nltk.stem.snowball import SnowballStemmer\n",
        "from sklearn.feature_extraction.text import CountVectorizer  \n",
        "from sklearn.pipeline import make_pipeline\n",
        "\n",
        "\n",
        "#############################\n",
        "import urllib"
      ]
    },
    {
      "cell_type": "code",
      "execution_count": 2,
      "metadata": {
        "id": "sWKmUfq-w7NU"
      },
      "outputs": [],
      "source": [
        "kaggle=pd.read_csv('/content/kaggle_both.csv') #https://www.kaggle.com/datasets/taruntiwarihp/phishing-site-urls"
      ]
    },
    {
      "cell_type": "code",
      "execution_count": 3,
      "metadata": {
        "id": "AglU79oFNJA7"
      },
      "outputs": [],
      "source": [
        "phishtank= pd.read_csv('/content/phishtank_fake.csv') #http://data.phishtank.com/data/online-valid.csv"
      ]
    },
    {
      "cell_type": "code",
      "execution_count": 4,
      "metadata": {
        "id": "TTUySLS9cOpl"
      },
      "outputs": [],
      "source": [
        "balanced= pd.read_csv('/content/balanced_both.csv') #https://data.mendeley.com/datasets/c2gw7fy2j4/3"
      ]
    },
    {
      "cell_type": "code",
      "execution_count": 5,
      "metadata": {
        "id": "xd5696NwNQ_S",
        "colab": {
          "base_uri": "https://localhost:8080/"
        },
        "outputId": "ef312970-0518-4424-a1ab-c2930f0ceecd"
      },
      "outputs": [
        {
          "output_type": "stream",
          "name": "stderr",
          "text": [
            "/usr/local/lib/python3.7/dist-packages/pandas/core/frame.py:5047: SettingWithCopyWarning: \n",
            "A value is trying to be set on a copy of a slice from a DataFrame\n",
            "\n",
            "See the caveats in the documentation: https://pandas.pydata.org/pandas-docs/stable/user_guide/indexing.html#returning-a-view-versus-a-copy\n",
            "  errors=errors,\n"
          ]
        }
      ],
      "source": [
        "phishtank=phishtank[['url','verified']]\n",
        "phishtank.rename(columns={'url': 'URL','verified':'Label'},inplace=True)"
      ]
    },
    {
      "cell_type": "code",
      "execution_count": 6,
      "metadata": {
        "id": "flWWlFQzc5JD"
      },
      "outputs": [],
      "source": [
        "balanced=balanced[['url','status']]\n",
        "balanced.rename(columns={'url': 'URL','status':'Label'},inplace=True)"
      ]
    },
    {
      "cell_type": "code",
      "execution_count": 7,
      "metadata": {
        "id": "gVGjRUw_OBSt",
        "colab": {
          "base_uri": "https://localhost:8080/"
        },
        "outputId": "d5e23ec6-39d9-42c5-a546-86fa3e848dac"
      },
      "outputs": [
        {
          "output_type": "stream",
          "name": "stderr",
          "text": [
            "/usr/local/lib/python3.7/dist-packages/pandas/core/generic.py:6619: SettingWithCopyWarning: \n",
            "A value is trying to be set on a copy of a slice from a DataFrame\n",
            "\n",
            "See the caveats in the documentation: https://pandas.pydata.org/pandas-docs/stable/user_guide/indexing.html#returning-a-view-versus-a-copy\n",
            "  return self._update_inplace(result)\n"
          ]
        }
      ],
      "source": [
        "phishtank['Label'].replace({'yes':'phishing'},inplace=True)\n",
        "kaggle['Label'].replace({'good':'legitimate', 'bad':'phishing' },inplace=True)"
      ]
    },
    {
      "cell_type": "code",
      "execution_count": 8,
      "metadata": {
        "id": "aW915BgldOXM",
        "colab": {
          "base_uri": "https://localhost:8080/"
        },
        "outputId": "06ebb02b-61e4-4963-b5b1-68793cf74d3f"
      },
      "outputs": [
        {
          "output_type": "execute_result",
          "data": {
            "text/plain": [
              "(7324, 2)"
            ]
          },
          "metadata": {},
          "execution_count": 8
        }
      ],
      "source": [
        "phishtank.shape"
      ]
    },
    {
      "cell_type": "code",
      "execution_count": 9,
      "metadata": {
        "id": "TlRUIs0yPPyu",
        "colab": {
          "base_uri": "https://localhost:8080/"
        },
        "outputId": "4f8f40f4-0d13-4bb4-9ebc-d6b4db0f1353"
      },
      "outputs": [
        {
          "output_type": "execute_result",
          "data": {
            "text/plain": [
              "legitimate    392924\n",
              "phishing      156422\n",
              "Name: Label, dtype: int64"
            ]
          },
          "metadata": {},
          "execution_count": 9
        }
      ],
      "source": [
        " kaggle['Label'].value_counts()"
      ]
    },
    {
      "cell_type": "code",
      "execution_count": 10,
      "metadata": {
        "id": "KCnLJbO5ca6V"
      },
      "outputs": [],
      "source": [
        "phishing_sites = kaggle[kaggle.Label == 'phishing']\n",
        "real_sites = kaggle[kaggle.Label == 'legitimate']\n",
        "real_sites = real_sites.iloc[:phishing_sites.shape[0]-35000]"
      ]
    },
    {
      "cell_type": "code",
      "execution_count": 11,
      "metadata": {
        "id": "J8Epq1Sg1cbG"
      },
      "outputs": [],
      "source": [
        "kaggle= pd.concat([phishing_sites , real_sites, real_sites.iloc[:phishtank.shape[0]]],ignore_index=True)"
      ]
    },
    {
      "cell_type": "code",
      "execution_count": 12,
      "metadata": {
        "id": "zdnyQhKIeGps",
        "colab": {
          "base_uri": "https://localhost:8080/"
        },
        "outputId": "e1196bf6-4f3f-49f3-a92a-e770ea747b17"
      },
      "outputs": [
        {
          "output_type": "execute_result",
          "data": {
            "text/plain": [
              "phishing      156422\n",
              "legitimate    128746\n",
              "Name: Label, dtype: int64"
            ]
          },
          "metadata": {},
          "execution_count": 12
        }
      ],
      "source": [
        " kaggle['Label'].value_counts()"
      ]
    },
    {
      "cell_type": "code",
      "execution_count": 13,
      "metadata": {
        "id": "HvWTeN2qPwb0"
      },
      "outputs": [],
      "source": [
        "df= pd.concat([kaggle,phishtank,balanced],ignore_index=True)"
      ]
    },
    {
      "cell_type": "code",
      "execution_count": 14,
      "metadata": {
        "id": "KzgVShakr6q5",
        "colab": {
          "base_uri": "https://localhost:8080/"
        },
        "outputId": "5f1c9d1a-7763-416b-8ab3-935c4f1b9a7b"
      },
      "outputs": [
        {
          "output_type": "execute_result",
          "data": {
            "text/plain": [
              "(303922, 2)"
            ]
          },
          "metadata": {},
          "execution_count": 14
        }
      ],
      "source": [
        "df.shape"
      ]
    },
    {
      "cell_type": "code",
      "execution_count": 15,
      "metadata": {
        "id": "auwiXhWkRHLL"
      },
      "outputs": [],
      "source": [
        "df.drop_duplicates(inplace=True)"
      ]
    },
    {
      "cell_type": "code",
      "execution_count": 16,
      "metadata": {
        "id": "d_NZlpxUruKj",
        "colab": {
          "base_uri": "https://localhost:8080/"
        },
        "outputId": "434f3f38-1bc3-4eff-e0cb-b30db4dfa129"
      },
      "outputs": [
        {
          "output_type": "execute_result",
          "data": {
            "text/plain": [
              "phishing      127197\n",
              "legitimate    127133\n",
              "Name: Label, dtype: int64"
            ]
          },
          "metadata": {},
          "execution_count": 16
        }
      ],
      "source": [
        "df['Label'].value_counts()"
      ]
    },
    {
      "cell_type": "code",
      "execution_count": 17,
      "metadata": {
        "id": "RiO7K1z3nNlI",
        "colab": {
          "base_uri": "https://localhost:8080/"
        },
        "outputId": "f6b88f76-12bf-4095-977b-d7227a8244f9"
      },
      "outputs": [
        {
          "output_type": "execute_result",
          "data": {
            "text/plain": [
              "(254330, 2)"
            ]
          },
          "metadata": {},
          "execution_count": 17
        }
      ],
      "source": [
        "df.shape"
      ]
    },
    {
      "cell_type": "code",
      "execution_count": 18,
      "metadata": {
        "id": "QsIW07zdOM_C",
        "colab": {
          "base_uri": "https://localhost:8080/"
        },
        "outputId": "0528ba9f-22c9-4bbd-bfdd-74adf7a3c794"
      },
      "outputs": [
        {
          "output_type": "execute_result",
          "data": {
            "text/plain": [
              "phishing      127197\n",
              "legitimate    127133\n",
              "Name: Label, dtype: int64"
            ]
          },
          "metadata": {},
          "execution_count": 18
        }
      ],
      "source": [
        "df['Label'].value_counts()"
      ]
    },
    {
      "cell_type": "code",
      "execution_count": 19,
      "metadata": {
        "id": "lVkeLV4zyx3r",
        "colab": {
          "base_uri": "https://localhost:8080/"
        },
        "outputId": "9732e7d9-424c-4e53-8d99-a57712f70169"
      },
      "outputs": [
        {
          "output_type": "execute_result",
          "data": {
            "text/plain": [
              "URL      0\n",
              "Label    0\n",
              "dtype: int64"
            ]
          },
          "metadata": {},
          "execution_count": 19
        }
      ],
      "source": [
        "df.isnull().sum()"
      ]
    },
    {
      "cell_type": "code",
      "execution_count": 20,
      "metadata": {
        "id": "PH8w2F0by0Ux",
        "colab": {
          "base_uri": "https://localhost:8080/",
          "height": 297
        },
        "outputId": "bf1cb254-78b8-45c4-a0d3-c9d7cea0cff7"
      },
      "outputs": [
        {
          "output_type": "execute_result",
          "data": {
            "text/plain": [
              "<matplotlib.axes._subplots.AxesSubplot at 0x7f000a46ad50>"
            ]
          },
          "metadata": {},
          "execution_count": 20
        },
        {
          "output_type": "display_data",
          "data": {
            "text/plain": [
              "<Figure size 432x288 with 1 Axes>"
            ],
            "image/png": "[encoded data removed]"
          },
          "metadata": {
            "needs_background": "light"
          }
        }
      ],
      "source": [
        "sns.countplot(x=\"Label\",data=df)"
      ]
    },
    {
      "cell_type": "markdown",
      "metadata": {
        "id": "6SzKcBSdfnp3"
      },
      "source": [
        "NLP"
      ]
    },
    {
      "cell_type": "markdown",
      "metadata": {
        "id": "fo1zTDrXmHaN"
      },
      "source": [
        "# Feature extraction"
      ]
    },
    {
      "cell_type": "code",
      "execution_count": 21,
      "metadata": {
        "id": "tTYInOo5zAJt"
      },
      "outputs": [],
      "source": [
        "tokenizer = RegexpTokenizer(r'[A-Za-z]+')\n",
        "df['text_tokenized'] = df.URL.map(lambda t: tokenizer.tokenize(t))\n"
      ]
    },
    {
      "cell_type": "code",
      "execution_count": 22,
      "metadata": {
        "id": "KuGqWXgKzVxB"
      },
      "outputs": [],
      "source": [
        "stemmer = SnowballStemmer(\"english\") # choose a language\n",
        "df['text_stemmed'] = df['text_tokenized'].map(lambda l: [stemmer.stem(word) for word in l])\n"
      ]
    },
    {
      "cell_type": "markdown",
      "metadata": {
        "id": "Jqf9_aXAAuJm"
      },
      "source": [
        ""
      ]
    },
    {
      "cell_type": "code",
      "execution_count": 23,
      "metadata": {
        "id": "S2-zVG9BzaHe"
      },
      "outputs": [],
      "source": [
        "# Joining all the stemmmed words.\n",
        "df['text_sent'] = df['text_stemmed'].map(lambda l: ' '.join(l))\n"
      ]
    },
    {
      "cell_type": "code",
      "execution_count": 24,
      "metadata": {
        "id": "LA5SRd1dbf-U"
      },
      "outputs": [],
      "source": [
        "df['URL_length']=df['URL'].map(lambda l: len(l))"
      ]
    },
    {
      "cell_type": "code",
      "execution_count": 25,
      "metadata": {
        "id": "S-2Hx1jxoHpn",
        "colab": {
          "base_uri": "https://localhost:8080/"
        },
        "outputId": "069666ca-c803-4b3d-f249-36bc126d76e1"
      },
      "outputs": [
        {
          "output_type": "stream",
          "name": "stdout",
          "text": [
            "Looking in indexes: https://pypi.org/simple, https://us-python.pkg.dev/colab-wheels/public/simple/\n",
            "Requirement already satisfied: tldextract in /usr/local/lib/python3.7/dist-packages (3.3.0)\n",
            "Requirement already satisfied: requests-file>=1.4 in /usr/local/lib/python3.7/dist-packages (from tldextract) (1.5.1)\n",
            "Requirement already satisfied: filelock>=3.0.8 in /usr/local/lib/python3.7/dist-packages (from tldextract) (3.7.0)\n",
            "Requirement already satisfied: idna in /usr/local/lib/python3.7/dist-packages (from tldextract) (2.10)\n",
            "Requirement already satisfied: requests>=2.1.0 in /usr/local/lib/python3.7/dist-packages (from tldextract) (2.23.0)\n",
            "Requirement already satisfied: chardet<4,>=3.0.2 in /usr/local/lib/python3.7/dist-packages (from requests>=2.1.0->tldextract) (3.0.4)\n",
            "Requirement already satisfied: urllib3!=1.25.0,!=1.25.1,<1.26,>=1.21.1 in /usr/local/lib/python3.7/dist-packages (from requests>=2.1.0->tldextract) (1.24.3)\n",
            "Requirement already satisfied: certifi>=2017.4.17 in /usr/local/lib/python3.7/dist-packages (from requests>=2.1.0->tldextract) (2022.5.18.1)\n",
            "Requirement already satisfied: six in /usr/local/lib/python3.7/dist-packages (from requests-file>=1.4->tldextract) (1.15.0)\n"
          ]
        }
      ],
      "source": [
        "!pip install tldextract"
      ]
    },
    {
      "cell_type": "code",
      "execution_count": 26,
      "metadata": {
        "id": "n90caYwxn6XC"
      },
      "outputs": [],
      "source": [
        "import tldextract"
      ]
    },
    {
      "cell_type": "code",
      "execution_count": 27,
      "metadata": {
        "id": "xeGeU-vWm9hf"
      },
      "outputs": [],
      "source": [
        "def get_component(url):\n",
        "    o = urllib.parse.urlsplit(url)\n",
        "    return o.hostname, tldextract.extract(url).domain, o.path\n"
      ]
    },
    {
      "cell_type": "code",
      "execution_count": 28,
      "metadata": {
        "id": "Hht2SZDxcCBG"
      },
      "outputs": [],
      "source": [
        "df['domain']= df['URL'].map(lambda l: get_component(l)[1])"
      ]
    },
    {
      "cell_type": "code",
      "execution_count": 29,
      "metadata": {
        "id": "XXSMF9M7oTi0",
        "colab": {
          "base_uri": "https://localhost:8080/"
        },
        "outputId": "49e02372-d4d5-4842-80bd-15564bc88d55"
      },
      "outputs": [
        {
          "output_type": "execute_result",
          "data": {
            "text/plain": [
              "0                         nobell\n",
              "1                        dghjdgf\n",
              "2                   serviciosbys\n",
              "3                      printakid\n",
              "4                thewhiskeydregs\n",
              "                   ...          \n",
              "303917                 fontspace\n",
              "303918                budgetbots\n",
              "303919                  facebook\n",
              "303920    mypublicdomainpictures\n",
              "303921            174.139.46.123\n",
              "Name: domain, Length: 254330, dtype: object"
            ]
          },
          "metadata": {},
          "execution_count": 29
        }
      ],
      "source": [
        "df['domain']"
      ]
    },
    {
      "cell_type": "code",
      "execution_count": 30,
      "metadata": {
        "id": "_6wd1j5vo4qa"
      },
      "outputs": [],
      "source": [
        "import re #regular expression library"
      ]
    },
    {
      "cell_type": "code",
      "execution_count": 31,
      "metadata": {
        "id": "5C9fNVBYonWJ"
      },
      "outputs": [],
      "source": [
        "def having_ip_address(url):\n",
        "    match = re.search(\n",
        "        '(([01]?\\\\d\\\\d?|2[0-4]\\\\d|25[0-5])\\\\.([01]?\\\\d\\\\d?|2[0-4]\\\\d|25[0-5])\\\\.([01]?\\\\d\\\\d?|2[0-4]\\\\d|25[0-5])\\\\.'\n",
        "        '([01]?\\\\d\\\\d?|2[0-4]\\\\d|25[0-5])\\\\/)|'  # IPv4\n",
        "        '((0x[0-9a-fA-F]{1,2})\\\\.(0x[0-9a-fA-F]{1,2})\\\\.(0x[0-9a-fA-F]{1,2})\\\\.(0x[0-9a-fA-F]{1,2})\\\\/)|'  # IPv4 in hexadecimal\n",
        "        '(?:[a-fA-F0-9]{1,4}:){7}[a-fA-F0-9]{1,4}|'\n",
        "        '[0-9a-fA-F]{7}', url)  # Ipv6\n",
        "    if match:\n",
        "        return 1\n",
        "    else:\n",
        "        return 0"
      ]
    },
    {
      "cell_type": "code",
      "execution_count": 32,
      "metadata": {
        "id": "gqmaE_Vfooyx"
      },
      "outputs": [],
      "source": [
        "df['has_ip']= df['URL'].map(lambda l: having_ip_address(l))"
      ]
    },
    {
      "cell_type": "code",
      "execution_count": 33,
      "metadata": {
        "id": "MUnEU7icpOEu",
        "colab": {
          "base_uri": "https://localhost:8080/",
          "height": 35
        },
        "outputId": "19cb3d69-987f-4ab3-d5f8-7cbfdb2d8064"
      },
      "outputs": [
        {
          "output_type": "execute_result",
          "data": {
            "text/plain": [
              "'ppweb.httpxxcwwwhttps.igg.biz/65801783/65801783'"
            ],
            "application/vnd.google.colaboratory.intrinsic+json": {
              "type": "string"
            }
          },
          "metadata": {},
          "execution_count": 33
        }
      ],
      "source": [
        "############################################\n",
        "df.loc[11427]['URL']"
      ]
    },
    {
      "cell_type": "code",
      "execution_count": 34,
      "metadata": {
        "id": "X8RZWxRhrmuI",
        "colab": {
          "base_uri": "https://localhost:8080/"
        },
        "outputId": "78039558-abdd-4f6b-94af-7913c62ca14d"
      },
      "outputs": [
        {
          "output_type": "stream",
          "name": "stdout",
          "text": [
            "Looking in indexes: https://pypi.org/simple, https://us-python.pkg.dev/colab-wheels/public/simple/\n",
            "Requirement already satisfied: parse in /usr/local/lib/python3.7/dist-packages (1.19.0)\n"
          ]
        }
      ],
      "source": [
        "!pip install parse"
      ]
    },
    {
      "cell_type": "code",
      "execution_count": 35,
      "metadata": {
        "id": "uBNit_hEqxax"
      },
      "outputs": [],
      "source": [
        "from urllib.parse import urlparse"
      ]
    },
    {
      "cell_type": "code",
      "execution_count": 36,
      "metadata": {
        "id": "AfiMJ0sDrHZq"
      },
      "outputs": [],
      "source": [
        "def https_token(url):\n",
        "  a = urlparse(url)\n",
        "  if a.scheme == 'https':\n",
        "      return 1\n",
        "  return 0"
      ]
    },
    {
      "cell_type": "code",
      "execution_count": 37,
      "metadata": {
        "id": "a2T5RsT6qubx"
      },
      "outputs": [],
      "source": [
        "df['scheme_https']= df['URL'].map(lambda l: https_token(l))"
      ]
    },
    {
      "cell_type": "code",
      "execution_count": 38,
      "metadata": {
        "id": "RRZJ08Rh_Pw1"
      },
      "outputs": [],
      "source": [
        "def n_digits(domain):\n",
        "    return len(re.sub(\"[^0-9]\", \"\", domain)) ####"
      ]
    },
    {
      "cell_type": "code",
      "execution_count": 39,
      "metadata": {
        "id": "eFoTva7FBSSS",
        "colab": {
          "base_uri": "https://localhost:8080/"
        },
        "outputId": "ac3d8cc9-1587-49f5-cc05-b9883f96262f"
      },
      "outputs": [
        {
          "output_type": "execute_result",
          "data": {
            "text/plain": [
              "URL               multiflashonline.com/live/redirection/redirect...\n",
              "Label                                                      phishing\n",
              "text_tokenized    [multiflashonline, com, live, redirection, red...\n",
              "text_stemmed      [multiflashonlin, com, live, redirect, redirec...\n",
              "text_sent            multiflashonlin com live redirect redirect php\n",
              "URL_length                                                       53\n",
              "domain                                             multiflashonline\n",
              "has_ip                                                            0\n",
              "scheme_https                                                      0\n",
              "Name: 11429, dtype: object"
            ]
          },
          "metadata": {},
          "execution_count": 39
        }
      ],
      "source": [
        "df.iloc[11429]"
      ]
    },
    {
      "cell_type": "code",
      "execution_count": 40,
      "metadata": {
        "id": "0z71HHFhtrMh"
      },
      "outputs": [],
      "source": [
        "# def ratio_digits(domain):\n",
        "    #return len(re.sub(\"[^0-9]\", \"\", domain))/len(domain)"
      ]
    },
    {
      "cell_type": "code",
      "execution_count": 41,
      "metadata": {
        "id": "gDwQ11Not7C5"
      },
      "outputs": [],
      "source": [
        "# df['digit_letter_ratio']= df['domain'].map(lambda l:  ratio_digits(l))"
      ]
    },
    {
      "cell_type": "code",
      "execution_count": 42,
      "metadata": {
        "id": "q17aNmMMs_zW",
        "colab": {
          "base_uri": "https://localhost:8080/",
          "height": 444
        },
        "outputId": "aae1ad1c-87de-4260-87b1-0984bff0fdf8"
      },
      "outputs": [
        {
          "output_type": "execute_result",
          "data": {
            "text/plain": [
              "                                                      URL       Label  \\\n",
              "303917      http://www.fontspace.com/category/blackletter  legitimate   \n",
              "303918  http://www.budgetbots.com/server.php/Server%20...    phishing   \n",
              "303919  https://www.facebook.com/Interactive-Televisio...  legitimate   \n",
              "303920             http://www.mypublicdomainpictures.com/  legitimate   \n",
              "303921  http://174.139.46.123/ap/signin?openid.pape.ma...    phishing   \n",
              "\n",
              "                                           text_tokenized  \\\n",
              "303917  [http, www, fontspace, com, category, blacklet...   \n",
              "303918  [http, www, budgetbots, com, server, php, Serv...   \n",
              "303919  [https, www, facebook, com, Interactive, Telev...   \n",
              "303920           [http, www, mypublicdomainpictures, com]   \n",
              "303921  [http, ap, signin, openid, pape, max, auth, ag...   \n",
              "\n",
              "                                             text_stemmed  \\\n",
              "303917    [http, www, fontspac, com, categori, blacklett]   \n",
              "303918  [http, www, budgetbot, com, server, php, serve...   \n",
              "303919  [https, www, facebook, com, interact, televis,...   \n",
              "303920             [http, www, mypublicdomainpictur, com]   \n",
              "303921  [http, ap, signin, openid, pape, max, auth, ag...   \n",
              "\n",
              "                                                text_sent  URL_length  \\\n",
              "303917           http www fontspac com categori blacklett          45   \n",
              "303918  http www budgetbot com server php server updat...          84   \n",
              "303919  https www facebook com interact televis pvt lt...         105   \n",
              "303920                  http www mypublicdomainpictur com          38   \n",
              "303921  http ap signin openid pape max auth age amp op...         477   \n",
              "\n",
              "                        domain  has_ip  scheme_https  \n",
              "303917               fontspace       0             0  \n",
              "303918              budgetbots       0             0  \n",
              "303919                facebook       1             1  \n",
              "303920  mypublicdomainpictures       0             0  \n",
              "303921          174.139.46.123       1             0  "
            ],
            "text/html": [
              "\n",
              "  <div id=\"df-fe270ffb-44fc-48ab-95e3-dc052a5d5a57\">\n",
              "    <div class=\"colab-df-container\">\n",
              "      <div>\n",
              "<style scoped>\n",
              "    .dataframe tbody tr th:only-of-type {\n",
              "        vertical-align: middle;\n",
              "    }\n",
              "\n",
              "    .dataframe tbody tr th {\n",
              "        vertical-align: top;\n",
              "    }\n",
              "\n",
              "    .dataframe thead th {\n",
              "        text-align: right;\n",
              "    }\n",
              "</style>\n",
              "<table border=\"1\" class=\"dataframe\">\n",
              "  <thead>\n",
              "    <tr style=\"text-align: right;\">\n",
              "      <th></th>\n",
              "      <th>URL</th>\n",
              "      <th>Label</th>\n",
              "      <th>text_tokenized</th>\n",
              "      <th>text_stemmed</th>\n",
              "      <th>text_sent</th>\n",
              "      <th>URL_length</th>\n",
              "      <th>domain</th>\n",
              "      <th>has_ip</th>\n",
              "      <th>scheme_https</th>\n",
              "    </tr>\n",
              "  </thead>\n",
              "  <tbody>\n",
              "    <tr>\n",
              "      <th>303917</th>\n",
              "      <td>http://www.fontspace.com/category/blackletter</td>\n",
              "      <td>legitimate</td>\n",
              "      <td>[http, www, fontspace, com, category, blacklet...</td>\n",
              "      <td>[http, www, fontspac, com, categori, blacklett]</td>\n",
              "      <td>http www fontspac com categori blacklett</td>\n",
              "      <td>45</td>\n",
              "      <td>fontspace</td>\n",
              "      <td>0</td>\n",
              "      <td>0</td>\n",
              "    </tr>\n",
              "    <tr>\n",
              "      <th>303918</th>\n",
              "      <td>http://www.budgetbots.com/server.php/Server%20...</td>\n",
              "      <td>phishing</td>\n",
              "      <td>[http, www, budgetbots, com, server, php, Serv...</td>\n",
              "      <td>[http, www, budgetbot, com, server, php, serve...</td>\n",
              "      <td>http www budgetbot com server php server updat...</td>\n",
              "      <td>84</td>\n",
              "      <td>budgetbots</td>\n",
              "      <td>0</td>\n",
              "      <td>0</td>\n",
              "    </tr>\n",
              "    <tr>\n",
              "      <th>303919</th>\n",
              "      <td>https://www.facebook.com/Interactive-Televisio...</td>\n",
              "      <td>legitimate</td>\n",
              "      <td>[https, www, facebook, com, Interactive, Telev...</td>\n",
              "      <td>[https, www, facebook, com, interact, televis,...</td>\n",
              "      <td>https www facebook com interact televis pvt lt...</td>\n",
              "      <td>105</td>\n",
              "      <td>facebook</td>\n",
              "      <td>1</td>\n",
              "      <td>1</td>\n",
              "    </tr>\n",
              "    <tr>\n",
              "      <th>303920</th>\n",
              "      <td>http://www.mypublicdomainpictures.com/</td>\n",
              "      <td>legitimate</td>\n",
              "      <td>[http, www, mypublicdomainpictures, com]</td>\n",
              "      <td>[http, www, mypublicdomainpictur, com]</td>\n",
              "      <td>http www mypublicdomainpictur com</td>\n",
              "      <td>38</td>\n",
              "      <td>mypublicdomainpictures</td>\n",
              "      <td>0</td>\n",
              "      <td>0</td>\n",
              "    </tr>\n",
              "    <tr>\n",
              "      <th>303921</th>\n",
              "      <td>http://174.139.46.123/ap/signin?openid.pape.ma...</td>\n",
              "      <td>phishing</td>\n",
              "      <td>[http, ap, signin, openid, pape, max, auth, ag...</td>\n",
              "      <td>[http, ap, signin, openid, pape, max, auth, ag...</td>\n",
              "      <td>http ap signin openid pape max auth age amp op...</td>\n",
              "      <td>477</td>\n",
              "      <td>174.139.46.123</td>\n",
              "      <td>1</td>\n",
              "      <td>0</td>\n",
              "    </tr>\n",
              "  </tbody>\n",
              "</table>\n",
              "</div>\n",
              "      <button class=\"colab-df-convert\" onclick=\"convertToInteractive('df-fe270ffb-44fc-48ab-95e3-dc052a5d5a57')\"\n",
              "              title=\"Convert this dataframe to an interactive table.\"\n",
              "              style=\"display:none;\">\n",
              "        \n",
              "  <svg xmlns=\"http://www.w3.org/2000/svg\" height=\"24px\"viewBox=\"0 0 24 24\"\n",
              "       width=\"24px\">\n",
              "    <path d=\"M0 0h24v24H0V0z\" fill=\"none\"/>\n",
              "    <path d=\"M18.56 5.44l.94 2.06.94-2.06 2.06-.94-2.06-.94-.94-2.06-.94 2.06-2.06.94zm-11 1L8.5 8.5l.94-2.06 2.06-.94-2.06-.94L8.5 2.5l-.94 2.06-2.06.94zm10 10l.94 2.06.94-2.06 2.06-.94-2.06-.94-.94-2.06-.94 2.06-2.06.94z\"/><path d=\"M17.41 7.96l-1.37-1.37c-.4-.4-.92-.59-1.43-.59-.52 0-1.04.2-1.43.59L10.3 9.45l-7.72 7.72c-.78.78-.78 2.05 0 2.83L4 21.41c.39.39.9.59 1.41.59.51 0 1.02-.2 1.41-.59l7.78-7.78 2.81-2.81c.8-.78.8-2.07 0-2.86zM5.41 20L4 18.59l7.72-7.72 1.47 1.35L5.41 20z\"/>\n",
              "  </svg>\n",
              "      </button>\n",
              "      \n",
              "  <style>\n",
              "    .colab-df-container {\n",
              "      display:flex;\n",
              "      flex-wrap:wrap;\n",
              "      gap: 12px;\n",
              "    }\n",
              "\n",
              "    .colab-df-convert {\n",
              "      background-color: #E8F0FE;\n",
              "      border: none;\n",
              "      border-radius: 50%;\n",
              "      cursor: pointer;\n",
              "      display: none;\n",
              "      fill: #1967D2;\n",
              "      height: 32px;\n",
              "      padding: 0 0 0 0;\n",
              "      width: 32px;\n",
              "    }\n",
              "\n",
              "    .colab-df-convert:hover {\n",
              "      background-color: #E2EBFA;\n",
              "      box-shadow: 0px 1px 2px rgba(60, 64, 67, 0.3), 0px 1px 3px 1px rgba(60, 64, 67, 0.15);\n",
              "      fill: #174EA6;\n",
              "    }\n",
              "\n",
              "    [theme=dark] .colab-df-convert {\n",
              "      background-color: #3B4455;\n",
              "      fill: #D2E3FC;\n",
              "    }\n",
              "\n",
              "    [theme=dark] .colab-df-convert:hover {\n",
              "      background-color: #434B5C;\n",
              "      box-shadow: 0px 1px 3px 1px rgba(0, 0, 0, 0.15);\n",
              "      filter: drop-shadow(0px 1px 2px rgba(0, 0, 0, 0.3));\n",
              "      fill: #FFFFFF;\n",
              "    }\n",
              "  </style>\n",
              "\n",
              "      <script>\n",
              "        const buttonEl =\n",
              "          document.querySelector('#df-fe270ffb-44fc-48ab-95e3-dc052a5d5a57 button.colab-df-convert');\n",
              "        buttonEl.style.display =\n",
              "          google.colab.kernel.accessAllowed ? 'block' : 'none';\n",
              "\n",
              "        async function convertToInteractive(key) {\n",
              "          const element = document.querySelector('#df-fe270ffb-44fc-48ab-95e3-dc052a5d5a57');\n",
              "          const dataTable =\n",
              "            await google.colab.kernel.invokeFunction('convertToInteractive',\n",
              "                                                     [key], {});\n",
              "          if (!dataTable) return;\n",
              "\n",
              "          const docLinkHtml = 'Like what you see? Visit the ' +\n",
              "            '<a target=\"_blank\" href=https://colab.research.google.com/notebooks/data_table.ipynb>data table notebook</a>'\n",
              "            + ' to learn more about interactive tables.';\n",
              "          element.innerHTML = '';\n",
              "          dataTable['output_type'] = 'display_data';\n",
              "          await google.colab.output.renderOutput(dataTable, element);\n",
              "          const docLink = document.createElement('div');\n",
              "          docLink.innerHTML = docLinkHtml;\n",
              "          element.appendChild(docLink);\n",
              "        }\n",
              "      </script>\n",
              "    </div>\n",
              "  </div>\n",
              "  "
            ]
          },
          "metadata": {},
          "execution_count": 42
        }
      ],
      "source": [
        "df.tail(5)"
      ]
    },
    {
      "cell_type": "code",
      "execution_count": 43,
      "metadata": {
        "id": "otJSI9CAubru",
        "colab": {
          "base_uri": "https://localhost:8080/"
        },
        "outputId": "6e835499-f972-4580-d5f9-dcd237067269"
      },
      "outputs": [
        {
          "output_type": "execute_result",
          "data": {
            "text/plain": [
              "0         nobel it ffb d dca cce f login skype com en cg...\n",
              "1         www dghjdgf com paypal co uk cycgi bin webscrc...\n",
              "2         serviciosbi com paypal cgi bin get into herf s...\n",
              "3         mail printakid com www onlin americanexpress c...\n",
              "4         thewhiskeydreg com wp content theme widescreen...\n",
              "                                ...                        \n",
              "303917             http www fontspac com categori blacklett\n",
              "303918    http www budgetbot com server php server updat...\n",
              "303919    https www facebook com interact televis pvt lt...\n",
              "303920                    http www mypublicdomainpictur com\n",
              "303921    http ap signin openid pape max auth age amp op...\n",
              "Name: text_sent, Length: 254330, dtype: object"
            ]
          },
          "metadata": {},
          "execution_count": 43
        }
      ],
      "source": [
        "df['text_sent']"
      ]
    },
    {
      "cell_type": "code",
      "execution_count": 44,
      "metadata": {
        "id": "JjPztEwDzrfJ"
      },
      "outputs": [],
      "source": [
        "cv = CountVectorizer()\n",
        "feature = cv.fit_transform(df.text_sent) #transform all text which we tokenize and stemed"
      ]
    },
    {
      "cell_type": "code",
      "execution_count": 45,
      "metadata": {
        "id": "1b2vwCPfrao6",
        "colab": {
          "base_uri": "https://localhost:8080/"
        },
        "outputId": "f5202e46-1c99-4e03-a930-5058c372aff0"
      },
      "outputs": [
        {
          "output_type": "execute_result",
          "data": {
            "text/plain": [
              "Index(['URL', 'Label', 'text_tokenized', 'text_stemmed', 'text_sent',\n",
              "       'URL_length', 'domain', 'has_ip', 'scheme_https'],\n",
              "      dtype='object')"
            ]
          },
          "metadata": {},
          "execution_count": 45
        }
      ],
      "source": [
        "df.columns"
      ]
    },
    {
      "cell_type": "code",
      "execution_count": 46,
      "metadata": {
        "id": "0palp3KqrE6F"
      },
      "outputs": [],
      "source": [
        "# import pandas as pd\n",
        "# df = pd.get_dummies(df1, columns=['URL', 'Label', 'text_tokenized', 'text_stemmed', 'text_sent'])"
      ]
    },
    {
      "cell_type": "code",
      "execution_count": 47,
      "metadata": {
        "id": "G8SlQNIDzxKb"
      },
      "outputs": [],
      "source": [
        "from sklearn.model_selection import train_test_split\n",
        "x1=df['URL']\n",
        "X_train, X_test, y_train, y_test  = train_test_split(feature,df.Label, test_size=0.24)#25=84.80,24=85.14\n",
        "# X_train, X_test, y_train, y_test = train_test_split(x1,df1.Label, random_state=42, shuffle=True, train_size=0.6)"
      ]
    },
    {
      "cell_type": "code",
      "execution_count": 48,
      "metadata": {
        "id": "0sCZN_j6hORs"
      },
      "outputs": [],
      "source": [
        "# import xgboost as xgb\n",
        "# from sklearn.metrics import accuracy_score\n",
        "# from numpy import loadtxt\n",
        "# from xgboost import XGBClassifier\n",
        "# from collections import Counter\n",
        "\n",
        "# # fit model no training data\n",
        "# model= XGBClassifier(\n",
        "#  learning_rate =0.01,\n",
        "#  n_estimators=5000,\n",
        "#  max_depth=4,\n",
        "#  min_child_weight=6,\n",
        "#  gamma=0,\n",
        "#  subsample=0.8,\n",
        "#  colsample_bytree=0.8,\n",
        "#  reg_alpha=0.005,\n",
        "#  objective= 'binary:logistic',\n",
        "#  nthread=4,\n",
        "#  scale_pos_weight=1,\n",
        "#  seed=27)\n",
        "# model.fit(X_train, y_train)\n",
        "# print(model)\n",
        "\n",
        "\n",
        "# # make predictions for test data\n",
        "# y_pred = model.predict(X_test)\n",
        "# #predictions=Counter([type(value) for value in y_pred])\n",
        "\n",
        "# accuracy = accuracy_score(y_test, y_pred)\n",
        "# print(\"Accuracy: %.2f%%\" % (accuracy * 100.0))\n",
        "# print('confusion matrix:\\n',confusion_matrix(y_test,y_pred))\n",
        "# print(\"report:\",classification_report(y_test,y_pred))\n"
      ]
    },
    {
      "cell_type": "code",
      "execution_count": 49,
      "metadata": {
        "id": "tx_pGJWgVToa",
        "colab": {
          "base_uri": "https://localhost:8080/",
          "height": 835
        },
        "outputId": "f0e94eb5-c02e-4c52-9db3-288d345727cd"
      },
      "outputs": [
        {
          "output_type": "execute_result",
          "data": {
            "text/plain": [
              "                                                      URL       Label  \\\n",
              "0       nobell.it/70ffb52d079109dca5664cce6f317373782/...    phishing   \n",
              "1       www.dghjdgf.com/paypal.co.uk/cycgi-bin/webscrc...    phishing   \n",
              "2       serviciosbys.com/paypal.cgi.bin.get-into.herf....    phishing   \n",
              "3       mail.printakid.com/www.online.americanexpress....    phishing   \n",
              "4       thewhiskeydregs.com/wp-content/themes/widescre...    phishing   \n",
              "...                                                   ...         ...   \n",
              "303917      http://www.fontspace.com/category/blackletter  legitimate   \n",
              "303918  http://www.budgetbots.com/server.php/Server%20...    phishing   \n",
              "303919  https://www.facebook.com/Interactive-Televisio...  legitimate   \n",
              "303920             http://www.mypublicdomainpictures.com/  legitimate   \n",
              "303921  http://174.139.46.123/ap/signin?openid.pape.ma...    phishing   \n",
              "\n",
              "                                           text_tokenized  \\\n",
              "0       [nobell, it, ffb, d, dca, cce, f, login, SkyPe...   \n",
              "1       [www, dghjdgf, com, paypal, co, uk, cycgi, bin...   \n",
              "2       [serviciosbys, com, paypal, cgi, bin, get, int...   \n",
              "3       [mail, printakid, com, www, online, americanex...   \n",
              "4       [thewhiskeydregs, com, wp, content, themes, wi...   \n",
              "...                                                   ...   \n",
              "303917  [http, www, fontspace, com, category, blacklet...   \n",
              "303918  [http, www, budgetbots, com, server, php, Serv...   \n",
              "303919  [https, www, facebook, com, Interactive, Telev...   \n",
              "303920           [http, www, mypublicdomainpictures, com]   \n",
              "303921  [http, ap, signin, openid, pape, max, auth, ag...   \n",
              "\n",
              "                                             text_stemmed  \\\n",
              "0       [nobel, it, ffb, d, dca, cce, f, login, skype,...   \n",
              "1       [www, dghjdgf, com, paypal, co, uk, cycgi, bin...   \n",
              "2       [serviciosbi, com, paypal, cgi, bin, get, into...   \n",
              "3       [mail, printakid, com, www, onlin, americanexp...   \n",
              "4       [thewhiskeydreg, com, wp, content, theme, wide...   \n",
              "...                                                   ...   \n",
              "303917    [http, www, fontspac, com, categori, blacklett]   \n",
              "303918  [http, www, budgetbot, com, server, php, serve...   \n",
              "303919  [https, www, facebook, com, interact, televis,...   \n",
              "303920             [http, www, mypublicdomainpictur, com]   \n",
              "303921  [http, ap, signin, openid, pape, max, auth, ag...   \n",
              "\n",
              "                                                text_sent  URL_length  \\\n",
              "0       nobel it ffb d dca cce f login skype com en cg...         225   \n",
              "1       www dghjdgf com paypal co uk cycgi bin webscrc...          81   \n",
              "2       serviciosbi com paypal cgi bin get into herf s...         177   \n",
              "3       mail printakid com www onlin americanexpress c...          60   \n",
              "4       thewhiskeydreg com wp content theme widescreen...         116   \n",
              "...                                                   ...         ...   \n",
              "303917           http www fontspac com categori blacklett          45   \n",
              "303918  http www budgetbot com server php server updat...          84   \n",
              "303919  https www facebook com interact televis pvt lt...         105   \n",
              "303920                  http www mypublicdomainpictur com          38   \n",
              "303921  http ap signin openid pape max auth age amp op...         477   \n",
              "\n",
              "                        domain  has_ip  scheme_https  \n",
              "0                       nobell       1             0  \n",
              "1                      dghjdgf       0             0  \n",
              "2                 serviciosbys       1             0  \n",
              "3                    printakid       0             0  \n",
              "4              thewhiskeydregs       1             0  \n",
              "...                        ...     ...           ...  \n",
              "303917               fontspace       0             0  \n",
              "303918              budgetbots       0             0  \n",
              "303919                facebook       1             1  \n",
              "303920  mypublicdomainpictures       0             0  \n",
              "303921          174.139.46.123       1             0  \n",
              "\n",
              "[254330 rows x 9 columns]"
            ],
            "text/html": [
              "\n",
              "  <div id=\"df-dcffef51-336a-46d0-b62b-1c74c7e585bc\">\n",
              "    <div class=\"colab-df-container\">\n",
              "      <div>\n",
              "<style scoped>\n",
              "    .dataframe tbody tr th:only-of-type {\n",
              "        vertical-align: middle;\n",
              "    }\n",
              "\n",
              "    .dataframe tbody tr th {\n",
              "        vertical-align: top;\n",
              "    }\n",
              "\n",
              "    .dataframe thead th {\n",
              "        text-align: right;\n",
              "    }\n",
              "</style>\n",
              "<table border=\"1\" class=\"dataframe\">\n",
              "  <thead>\n",
              "    <tr style=\"text-align: right;\">\n",
              "      <th></th>\n",
              "      <th>URL</th>\n",
              "      <th>Label</th>\n",
              "      <th>text_tokenized</th>\n",
              "      <th>text_stemmed</th>\n",
              "      <th>text_sent</th>\n",
              "      <th>URL_length</th>\n",
              "      <th>domain</th>\n",
              "      <th>has_ip</th>\n",
              "      <th>scheme_https</th>\n",
              "    </tr>\n",
              "  </thead>\n",
              "  <tbody>\n",
              "    <tr>\n",
              "      <th>0</th>\n",
              "      <td>nobell.it/70ffb52d079109dca5664cce6f317373782/...</td>\n",
              "      <td>phishing</td>\n",
              "      <td>[nobell, it, ffb, d, dca, cce, f, login, SkyPe...</td>\n",
              "      <td>[nobel, it, ffb, d, dca, cce, f, login, skype,...</td>\n",
              "      <td>nobel it ffb d dca cce f login skype com en cg...</td>\n",
              "      <td>225</td>\n",
              "      <td>nobell</td>\n",
              "      <td>1</td>\n",
              "      <td>0</td>\n",
              "    </tr>\n",
              "    <tr>\n",
              "      <th>1</th>\n",
              "      <td>www.dghjdgf.com/paypal.co.uk/cycgi-bin/webscrc...</td>\n",
              "      <td>phishing</td>\n",
              "      <td>[www, dghjdgf, com, paypal, co, uk, cycgi, bin...</td>\n",
              "      <td>[www, dghjdgf, com, paypal, co, uk, cycgi, bin...</td>\n",
              "      <td>www dghjdgf com paypal co uk cycgi bin webscrc...</td>\n",
              "      <td>81</td>\n",
              "      <td>dghjdgf</td>\n",
              "      <td>0</td>\n",
              "      <td>0</td>\n",
              "    </tr>\n",
              "    <tr>\n",
              "      <th>2</th>\n",
              "      <td>serviciosbys.com/paypal.cgi.bin.get-into.herf....</td>\n",
              "      <td>phishing</td>\n",
              "      <td>[serviciosbys, com, paypal, cgi, bin, get, int...</td>\n",
              "      <td>[serviciosbi, com, paypal, cgi, bin, get, into...</td>\n",
              "      <td>serviciosbi com paypal cgi bin get into herf s...</td>\n",
              "      <td>177</td>\n",
              "      <td>serviciosbys</td>\n",
              "      <td>1</td>\n",
              "      <td>0</td>\n",
              "    </tr>\n",
              "    <tr>\n",
              "      <th>3</th>\n",
              "      <td>mail.printakid.com/www.online.americanexpress....</td>\n",
              "      <td>phishing</td>\n",
              "      <td>[mail, printakid, com, www, online, americanex...</td>\n",
              "      <td>[mail, printakid, com, www, onlin, americanexp...</td>\n",
              "      <td>mail printakid com www onlin americanexpress c...</td>\n",
              "      <td>60</td>\n",
              "      <td>printakid</td>\n",
              "      <td>0</td>\n",
              "      <td>0</td>\n",
              "    </tr>\n",
              "    <tr>\n",
              "      <th>4</th>\n",
              "      <td>thewhiskeydregs.com/wp-content/themes/widescre...</td>\n",
              "      <td>phishing</td>\n",
              "      <td>[thewhiskeydregs, com, wp, content, themes, wi...</td>\n",
              "      <td>[thewhiskeydreg, com, wp, content, theme, wide...</td>\n",
              "      <td>thewhiskeydreg com wp content theme widescreen...</td>\n",
              "      <td>116</td>\n",
              "      <td>thewhiskeydregs</td>\n",
              "      <td>1</td>\n",
              "      <td>0</td>\n",
              "    </tr>\n",
              "    <tr>\n",
              "      <th>...</th>\n",
              "      <td>...</td>\n",
              "      <td>...</td>\n",
              "      <td>...</td>\n",
              "      <td>...</td>\n",
              "      <td>...</td>\n",
              "      <td>...</td>\n",
              "      <td>...</td>\n",
              "      <td>...</td>\n",
              "      <td>...</td>\n",
              "    </tr>\n",
              "    <tr>\n",
              "      <th>303917</th>\n",
              "      <td>http://www.fontspace.com/category/blackletter</td>\n",
              "      <td>legitimate</td>\n",
              "      <td>[http, www, fontspace, com, category, blacklet...</td>\n",
              "      <td>[http, www, fontspac, com, categori, blacklett]</td>\n",
              "      <td>http www fontspac com categori blacklett</td>\n",
              "      <td>45</td>\n",
              "      <td>fontspace</td>\n",
              "      <td>0</td>\n",
              "      <td>0</td>\n",
              "    </tr>\n",
              "    <tr>\n",
              "      <th>303918</th>\n",
              "      <td>http://www.budgetbots.com/server.php/Server%20...</td>\n",
              "      <td>phishing</td>\n",
              "      <td>[http, www, budgetbots, com, server, php, Serv...</td>\n",
              "      <td>[http, www, budgetbot, com, server, php, serve...</td>\n",
              "      <td>http www budgetbot com server php server updat...</td>\n",
              "      <td>84</td>\n",
              "      <td>budgetbots</td>\n",
              "      <td>0</td>\n",
              "      <td>0</td>\n",
              "    </tr>\n",
              "    <tr>\n",
              "      <th>303919</th>\n",
              "      <td>https://www.facebook.com/Interactive-Televisio...</td>\n",
              "      <td>legitimate</td>\n",
              "      <td>[https, www, facebook, com, Interactive, Telev...</td>\n",
              "      <td>[https, www, facebook, com, interact, televis,...</td>\n",
              "      <td>https www facebook com interact televis pvt lt...</td>\n",
              "      <td>105</td>\n",
              "      <td>facebook</td>\n",
              "      <td>1</td>\n",
              "      <td>1</td>\n",
              "    </tr>\n",
              "    <tr>\n",
              "      <th>303920</th>\n",
              "      <td>http://www.mypublicdomainpictures.com/</td>\n",
              "      <td>legitimate</td>\n",
              "      <td>[http, www, mypublicdomainpictures, com]</td>\n",
              "      <td>[http, www, mypublicdomainpictur, com]</td>\n",
              "      <td>http www mypublicdomainpictur com</td>\n",
              "      <td>38</td>\n",
              "      <td>mypublicdomainpictures</td>\n",
              "      <td>0</td>\n",
              "      <td>0</td>\n",
              "    </tr>\n",
              "    <tr>\n",
              "      <th>303921</th>\n",
              "      <td>http://174.139.46.123/ap/signin?openid.pape.ma...</td>\n",
              "      <td>phishing</td>\n",
              "      <td>[http, ap, signin, openid, pape, max, auth, ag...</td>\n",
              "      <td>[http, ap, signin, openid, pape, max, auth, ag...</td>\n",
              "      <td>http ap signin openid pape max auth age amp op...</td>\n",
              "      <td>477</td>\n",
              "      <td>174.139.46.123</td>\n",
              "      <td>1</td>\n",
              "      <td>0</td>\n",
              "    </tr>\n",
              "  </tbody>\n",
              "</table>\n",
              "<p>254330 rows × 9 columns</p>\n",
              "</div>\n",
              "      <button class=\"colab-df-convert\" onclick=\"convertToInteractive('df-dcffef51-336a-46d0-b62b-1c74c7e585bc')\"\n",
              "              title=\"Convert this dataframe to an interactive table.\"\n",
              "              style=\"display:none;\">\n",
              "        \n",
              "  <svg xmlns=\"http://www.w3.org/2000/svg\" height=\"24px\"viewBox=\"0 0 24 24\"\n",
              "       width=\"24px\">\n",
              "    <path d=\"M0 0h24v24H0V0z\" fill=\"none\"/>\n",
              "    <path d=\"M18.56 5.44l.94 2.06.94-2.06 2.06-.94-2.06-.94-.94-2.06-.94 2.06-2.06.94zm-11 1L8.5 8.5l.94-2.06 2.06-.94-2.06-.94L8.5 2.5l-.94 2.06-2.06.94zm10 10l.94 2.06.94-2.06 2.06-.94-2.06-.94-.94-2.06-.94 2.06-2.06.94z\"/><path d=\"M17.41 7.96l-1.37-1.37c-.4-.4-.92-.59-1.43-.59-.52 0-1.04.2-1.43.59L10.3 9.45l-7.72 7.72c-.78.78-.78 2.05 0 2.83L4 21.41c.39.39.9.59 1.41.59.51 0 1.02-.2 1.41-.59l7.78-7.78 2.81-2.81c.8-.78.8-2.07 0-2.86zM5.41 20L4 18.59l7.72-7.72 1.47 1.35L5.41 20z\"/>\n",
              "  </svg>\n",
              "      </button>\n",
              "      \n",
              "  <style>\n",
              "    .colab-df-container {\n",
              "      display:flex;\n",
              "      flex-wrap:wrap;\n",
              "      gap: 12px;\n",
              "    }\n",
              "\n",
              "    .colab-df-convert {\n",
              "      background-color: #E8F0FE;\n",
              "      border: none;\n",
              "      border-radius: 50%;\n",
              "      cursor: pointer;\n",
              "      display: none;\n",
              "      fill: #1967D2;\n",
              "      height: 32px;\n",
              "      padding: 0 0 0 0;\n",
              "      width: 32px;\n",
              "    }\n",
              "\n",
              "    .colab-df-convert:hover {\n",
              "      background-color: #E2EBFA;\n",
              "      box-shadow: 0px 1px 2px rgba(60, 64, 67, 0.3), 0px 1px 3px 1px rgba(60, 64, 67, 0.15);\n",
              "      fill: #174EA6;\n",
              "    }\n",
              "\n",
              "    [theme=dark] .colab-df-convert {\n",
              "      background-color: #3B4455;\n",
              "      fill: #D2E3FC;\n",
              "    }\n",
              "\n",
              "    [theme=dark] .colab-df-convert:hover {\n",
              "      background-color: #434B5C;\n",
              "      box-shadow: 0px 1px 3px 1px rgba(0, 0, 0, 0.15);\n",
              "      filter: drop-shadow(0px 1px 2px rgba(0, 0, 0, 0.3));\n",
              "      fill: #FFFFFF;\n",
              "    }\n",
              "  </style>\n",
              "\n",
              "      <script>\n",
              "        const buttonEl =\n",
              "          document.querySelector('#df-dcffef51-336a-46d0-b62b-1c74c7e585bc button.colab-df-convert');\n",
              "        buttonEl.style.display =\n",
              "          google.colab.kernel.accessAllowed ? 'block' : 'none';\n",
              "\n",
              "        async function convertToInteractive(key) {\n",
              "          const element = document.querySelector('#df-dcffef51-336a-46d0-b62b-1c74c7e585bc');\n",
              "          const dataTable =\n",
              "            await google.colab.kernel.invokeFunction('convertToInteractive',\n",
              "                                                     [key], {});\n",
              "          if (!dataTable) return;\n",
              "\n",
              "          const docLinkHtml = 'Like what you see? Visit the ' +\n",
              "            '<a target=\"_blank\" href=https://colab.research.google.com/notebooks/data_table.ipynb>data table notebook</a>'\n",
              "            + ' to learn more about interactive tables.';\n",
              "          element.innerHTML = '';\n",
              "          dataTable['output_type'] = 'display_data';\n",
              "          await google.colab.output.renderOutput(dataTable, element);\n",
              "          const docLink = document.createElement('div');\n",
              "          docLink.innerHTML = docLinkHtml;\n",
              "          element.appendChild(docLink);\n",
              "        }\n",
              "      </script>\n",
              "    </div>\n",
              "  </div>\n",
              "  "
            ]
          },
          "metadata": {},
          "execution_count": 49
        }
      ],
      "source": [
        "df"
      ]
    },
    {
      "cell_type": "markdown",
      "metadata": {
        "id": "1XCaH8WpMVm3"
      },
      "source": [
        "# Modeling [Decision Trees]"
      ]
    },
    {
      "cell_type": "markdown",
      "metadata": {
        "id": "gP-d3V2dkVRs"
      },
      "source": [
        "RandomizedSearch for hyperparameter tuning"
      ]
    },
    {
      "cell_type": "code",
      "execution_count": 57,
      "metadata": {
        "id": "XJGbioYtMAtw",
        "colab": {
          "base_uri": "https://localhost:8080/",
          "height": 425
        },
        "outputId": "b2b21425-ba04-4766-fee4-7db42ca3335e"
      },
      "outputs": [
        {
          "output_type": "error",
          "ename": "NotFittedError",
          "evalue": "ignored",
          "traceback": [
            "\u001b[0;31m---------------------------------------------------------------------------\u001b[0m",
            "\u001b[0;31mNotFittedError\u001b[0m                            Traceback (most recent call last)",
            "\u001b[0;32m<ipython-input-57-b675a1b29677>\u001b[0m in \u001b[0;36m<module>\u001b[0;34m()\u001b[0m\n\u001b[1;32m     24\u001b[0m \u001b[0mplt\u001b[0m\u001b[0;34m.\u001b[0m\u001b[0mfigure\u001b[0m\u001b[0;34m(\u001b[0m\u001b[0mfigsize\u001b[0m \u001b[0;34m=\u001b[0m\u001b[0;34m(\u001b[0m\u001b[0;36m80\u001b[0m\u001b[0;34m,\u001b[0m\u001b[0;36m20\u001b[0m\u001b[0;34m)\u001b[0m\u001b[0;34m)\u001b[0m\u001b[0;34m\u001b[0m\u001b[0;34m\u001b[0m\u001b[0m\n\u001b[1;32m     25\u001b[0m \u001b[0;34m\u001b[0m\u001b[0m\n\u001b[0;32m---> 26\u001b[0;31m \u001b[0mplot_tree\u001b[0m\u001b[0;34m(\u001b[0m\u001b[0mtree\u001b[0m\u001b[0;34m,\u001b[0m \u001b[0mfeature_names\u001b[0m\u001b[0;34m=\u001b[0m\u001b[0mdf\u001b[0m\u001b[0;34m.\u001b[0m\u001b[0mcolumns\u001b[0m\u001b[0;34m,\u001b[0m \u001b[0mmax_depth\u001b[0m\u001b[0;34m=\u001b[0m\u001b[0;36m2\u001b[0m\u001b[0;34m,\u001b[0m \u001b[0mfilled\u001b[0m\u001b[0;34m=\u001b[0m\u001b[0;32mTrue\u001b[0m\u001b[0;34m)\u001b[0m\u001b[0;34m;\u001b[0m\u001b[0;34m\u001b[0m\u001b[0;34m\u001b[0m\u001b[0m\n\u001b[0m\u001b[1;32m     27\u001b[0m \u001b[0;31m################################\u001b[0m\u001b[0;34m\u001b[0m\u001b[0;34m\u001b[0m\u001b[0;34m\u001b[0m\u001b[0m\n\u001b[1;32m     28\u001b[0m \u001b[0;31m# y_pred1 = tree_cv.predict(X_test)\u001b[0m\u001b[0;34m\u001b[0m\u001b[0;34m\u001b[0m\u001b[0;34m\u001b[0m\u001b[0m\n",
            "\u001b[0;32m/usr/local/lib/python3.7/dist-packages/sklearn/tree/_export.py\u001b[0m in \u001b[0;36mplot_tree\u001b[0;34m(decision_tree, max_depth, feature_names, class_names, label, filled, impurity, node_ids, proportion, rounded, precision, ax, fontsize)\u001b[0m\n\u001b[1;32m    178\u001b[0m     \"\"\"\n\u001b[1;32m    179\u001b[0m \u001b[0;34m\u001b[0m\u001b[0m\n\u001b[0;32m--> 180\u001b[0;31m     \u001b[0mcheck_is_fitted\u001b[0m\u001b[0;34m(\u001b[0m\u001b[0mdecision_tree\u001b[0m\u001b[0;34m)\u001b[0m\u001b[0;34m\u001b[0m\u001b[0;34m\u001b[0m\u001b[0m\n\u001b[0m\u001b[1;32m    181\u001b[0m \u001b[0;34m\u001b[0m\u001b[0m\n\u001b[1;32m    182\u001b[0m     exporter = _MPLTreeExporter(\n",
            "\u001b[0;32m/usr/local/lib/python3.7/dist-packages/sklearn/utils/validation.py\u001b[0m in \u001b[0;36mcheck_is_fitted\u001b[0;34m(estimator, attributes, msg, all_or_any)\u001b[0m\n\u001b[1;32m   1220\u001b[0m \u001b[0;34m\u001b[0m\u001b[0m\n\u001b[1;32m   1221\u001b[0m     \u001b[0;32mif\u001b[0m \u001b[0;32mnot\u001b[0m \u001b[0mfitted\u001b[0m\u001b[0;34m:\u001b[0m\u001b[0;34m\u001b[0m\u001b[0;34m\u001b[0m\u001b[0m\n\u001b[0;32m-> 1222\u001b[0;31m         \u001b[0;32mraise\u001b[0m \u001b[0mNotFittedError\u001b[0m\u001b[0;34m(\u001b[0m\u001b[0mmsg\u001b[0m \u001b[0;34m%\u001b[0m \u001b[0;34m{\u001b[0m\u001b[0;34m\"name\"\u001b[0m\u001b[0;34m:\u001b[0m \u001b[0mtype\u001b[0m\u001b[0;34m(\u001b[0m\u001b[0mestimator\u001b[0m\u001b[0;34m)\u001b[0m\u001b[0;34m.\u001b[0m\u001b[0m__name__\u001b[0m\u001b[0;34m}\u001b[0m\u001b[0;34m)\u001b[0m\u001b[0;34m\u001b[0m\u001b[0;34m\u001b[0m\u001b[0m\n\u001b[0m\u001b[1;32m   1223\u001b[0m \u001b[0;34m\u001b[0m\u001b[0m\n\u001b[1;32m   1224\u001b[0m \u001b[0;34m\u001b[0m\u001b[0m\n",
            "\u001b[0;31mNotFittedError\u001b[0m: This DecisionTreeClassifier instance is not fitted yet. Call 'fit' with appropriate arguments before using this estimator."
          ]
        },
        {
          "output_type": "display_data",
          "data": {
            "text/plain": [
              "<Figure size 5760x1440 with 0 Axes>"
            ]
          },
          "metadata": {}
        }
      ],
      "source": [
        "# from scipy.stats import randint\n",
        "# from sklearn.tree import DecisionTreeClassifier\n",
        "# from sklearn.model_selection import RandomizedSearchCV\n",
        "# from sklearn.metrics import accuracy_score\n",
        "\n",
        "# # Setup the parameters and distributions to sample from: param_dist\n",
        "# param_dist = {\"max_depth\": randint(1, 20),\n",
        "#               \"max_features\": randint(1, 9),\n",
        "#               \"min_samples_leaf\": randint(1, 9),\n",
        "#               \"criterion\": [\"gini\", \"entropy\"]}\n",
        "\n",
        "# # Instantiate a Decision Tree classifier: tree\n",
        "# tree = DecisionTreeClassifier(random_state=42)\n",
        "\n",
        "# # Instantiate the RandomizedSearchCV object: tree_cv\n",
        "# tree_cv = RandomizedSearchCV(tree, param_dist, cv=40)\n",
        "\n",
        "\n",
        "# # Fit it to the data\n",
        "# tree_cv.fit(X_train, y_train)\n",
        "\n",
        "\n",
        "# ################################\n",
        "# y_pred1 = tree_cv.predict(X_test)\n",
        "# accuracy = accuracy_score(y_test, y_pred1)\n",
        "# print(\"Accuracy: %.2f%%\" % (accuracy * 100.0))\n",
        "# print('confusion matrix:\\n',confusion_matrix(y_test,y_pred1))\n",
        "# print(\"report:\",classification_report(y_test,y_pred1))\n",
        "# ###############################\n",
        "# # Print the tuned parameters and score\n",
        "# print(\"Tuned Decision Tree Parameters: {}\".format(tree_cv.best_params_))\n",
        "# print(\"Best score is {}\".format(tree_cv.best_score_))"
      ]
    },
    {
      "cell_type": "markdown",
      "metadata": {
        "id": "dF2BOYeHfXne"
      },
      "source": [
        "Grid search for hyperparameters tuning\n"
      ]
    },
    {
      "cell_type": "code",
      "source": [
        "from sklearn import tree\n",
        "from sklearn.metrics import accuracy_score\n",
        "clf = tree.DecisionTreeClassifier()\n",
        "clf = clf.fit(X_train, y_train)\n",
        "y_pred1 = clf.predict(X_test)\n",
        "accuracy = accuracy_score(y_test, y_pred1)\n",
        "print(\"Accuracy: %.2f%%\" % (accuracy * 100.0))\n",
        "print('confusion matrix:\\n',confusion_matrix(y_test,y_pred1))\n",
        "print(\"report:\",classification_report(y_test,y_pred1))"
      ],
      "metadata": {
        "id": "5yZtENuKmRQ2"
      },
      "execution_count": null,
      "outputs": []
    },
    {
      "cell_type": "code",
      "source": [
        "# from sklearn import decomposition, datasets\n",
        "# from sklearn import tree\n",
        "# from sklearn.pipeline import Pipeline\n",
        "# from sklearn.model_selection import GridSearchCV\n",
        "# from sklearn.preprocessing import StandardScaler\n",
        "# std_slc = StandardScaler()\n",
        "# pca = decomposition.PCA()\n",
        "# dec_tree = tree.DecisionTreeClassifier()\n",
        "# pipe = Pipeline(steps=[('std_slc', std_slc),\n",
        "#                            ('pca', pca),\n",
        "#                            ('dec_tree', dec_tree)])\n",
        "# n_components = list(range(1,X_train.shape[1]+1,1))\n",
        "# criterion = ['gini', 'entropy']\n",
        "# max_depth = [2,4,6,8,10,12]\n",
        "# parameters = dict(pca__n_components=n_components,\n",
        "#                       dec_tree__criterion=criterion,\n",
        "#                       dec_tree__max_depth=max_depth)\n",
        "# clf_GS = GridSearchCV(pipe, parameters)\n",
        "# clf_GS.fit(X_train, y_train)\n",
        "# print('Best Criterion:', clf_GS.best_estimator_.get_params()['dec_tree__criterion'])\n",
        "# print('Best max_depth:', clf_GS.best_estimator_.get_params()['dec_tree__max_depth'])\n",
        "# print('Best Number Of Components:', clf_GS.best_estimator_.get_params()['pca__n_components'])\n",
        "# print(); print(clf_GS.best_estimator_.get_params()['dec_tree'])"
      ],
      "metadata": {
        "id": "CPS6upS6mUWs"
      },
      "execution_count": null,
      "outputs": []
    }
  ],
  "metadata": {
    "accelerator": "GPU",
    "colab": {
      "collapsed_sections": [],
      "name": "PhishingURLs FINALipynb",
      "provenance": []
    },
    "kernelspec": {
      "display_name": "Python 3",
      "name": "python3"
    },
    "language_info": {
      "name": "python"
    }
  },
  "nbformat": 4,
  "nbformat_minor": 0
}